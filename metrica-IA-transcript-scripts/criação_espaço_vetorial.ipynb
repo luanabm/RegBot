{
 "cells": [
  {
   "cell_type": "markdown",
   "metadata": {},
   "source": [
    "# Criando um novo espaço vetorial baseado no dataset"
   ]
  },
  {
   "cell_type": "markdown",
   "metadata": {},
   "source": [
    "## Importando os módulos necessários"
   ]
  },
  {
   "cell_type": "code",
   "execution_count": null,
   "metadata": {},
   "outputs": [],
   "source": [
    "import pandas as pd\n",
    "from tensorflow import keras\n",
    "import tensorflow_hub as hub\n",
    "import tensorflow as tf"
   ]
  },
  {
   "cell_type": "markdown",
   "metadata": {},
   "source": [
    "## Carregando modelo já criado em \"model-making-script\""
   ]
  },
  {
   "cell_type": "code",
   "execution_count": null,
   "metadata": {},
   "outputs": [],
   "source": [
    "searchModel = keras.models.load_model(\n",
    "    '../model-making-scripts/searchModel.h5', custom_objects={'KerasLayer': hub.KerasLayer})"
   ]
  },
  {
   "cell_type": "markdown",
   "metadata": {},
   "source": [
    "## Carregando o dataset e corrigindo entradas."
   ]
  },
  {
   "cell_type": "code",
   "execution_count": null,
   "metadata": {},
   "outputs": [],
   "source": [
    "df = pd.read_csv(\"./data/transcripts.csv\")\n",
    "\n",
    "del df['Unnamed: 0']\n",
    "\n",
    "df['regulation'][0]"
   ]
  },
  {
   "cell_type": "markdown",
   "metadata": {},
   "source": [
    "## Importando os dados para vetorização e criação do espaço vetorial\n",
    "\n",
    "+ Serão importados na forma de Dataframe, usando Pandas\n",
    "+ Após importação, é feita a concatenação das variáveis \"num\", \"regulation\" e \"paragraph\", pois juntas formarão o texto usado para produzir a representação vetorial do artigo.\n",
    "+ Os campos são então armazenados na forma de listas, uma para cada coluna do Dataframe"
   ]
  },
  {
   "cell_type": "code",
   "execution_count": null,
   "metadata": {},
   "outputs": [],
   "source": [
    "\n",
    "# Verifica se o campo 'paragraph' é nulo ou vazio\n",
    "if df['paragraph'].isna().any() or df['paragraph'].str.strip().empty:\n",
    "    df['Concatenation'] = df['num'].astype(str) + ' ' + df['regulation'].astype(str)\n",
    "else:\n",
    "    df['Concatenation'] = df['num'].astype(str) + ' ' + df['regulation'].astype(str) + ' ' + df['paragraph'].astype(str)\n",
    "\n",
    "# Restante do código\n",
    "list = df.values.tolist()\n",
    "num = []\n",
    "regulation = []\n",
    "paragraph = []\n",
    "sentences = []\n",
    "for i in range(len(list)):\n",
    "    regulation.append(list[i][0])\n",
    "    num.append(list[i][1])\n",
    "    paragraph.append(list[i][2])\n",
    "    sentences.append(list[i][4])\n",
    "\n",
    "df.head()\n"
   ]
  },
  {
   "cell_type": "markdown",
   "metadata": {},
   "source": [
    "## Criando vetores\n",
    "\n",
    "+ Para criar-se os vetores, o modelo é utilizado para codificar todos os itens da lista sentence\n",
    "+ Esta lista, criada anteriormente, possui a concatenação do numero, regulamentação e paragrafo de cada artigo, na mesma ordem em que aparecem no dataset."
   ]
  },
  {
   "cell_type": "code",
   "execution_count": null,
   "metadata": {},
   "outputs": [],
   "source": [
    "vectors = searchModel.predict(sentences)"
   ]
  },
  {
   "cell_type": "markdown",
   "metadata": {},
   "source": [
    "## Criando espaço vetorial\n",
    "+ Os vetores criados anteriormente devem ser persistidos em JSON\n",
    "+ O JSON possui diversos campos, cada um contendo um dado relevante acerca de um artigo.\n",
    "+ Para cada vetor armazenado no campo \"data\", existe um metadado salvo em cada um dos outros campos no mesmo índice\n",
    "+ Verificando-se um dado índice em todos os campos, é possível recuperar todas as informações de um dado."
   ]
  },
  {
   "cell_type": "code",
   "execution_count": null,
   "metadata": {},
   "outputs": [],
   "source": [
    "import json\n",
    "\n",
    "lists = vectors.tolist()\n",
    "data = {\"data\": lists,\n",
    "        \"num\": num,\n",
    "        \"regulation\": regulation,\n",
    "        \"paragraph\": paragraph,\n",
    "       }\n",
    "json_str = json.dumps(data)\n",
    "\n",
    "f = open('./data/data.json', 'w')\n",
    "f.write(json_str)\n",
    "f.close()"
   ]
  }
 ],
 "metadata": {
  "kernelspec": {
   "display_name": "Python 3.10.4 64-bit",
   "language": "python",
   "name": "python3"
  },
  "language_info": {
   "codemirror_mode": {
    "name": "ipython",
    "version": 3
   },
   "file_extension": ".py",
   "mimetype": "text/x-python",
   "name": "python",
   "nbconvert_exporter": "python",
   "pygments_lexer": "ipython3",
   "version": "3.10.6"
  },
  "orig_nbformat": 4,
  "vscode": {
   "interpreter": {
    "hash": "916dbcbb3f70747c44a77c7bcd40155683ae19c65e1c03b4aa3499c5328201f1"
   }
  }
 },
 "nbformat": 4,
 "nbformat_minor": 2
}
