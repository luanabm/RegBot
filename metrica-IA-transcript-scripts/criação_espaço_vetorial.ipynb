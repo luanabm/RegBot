{
 "cells": [
  {
   "cell_type": "markdown",
   "metadata": {},
   "source": [
    "# Criando um novo espaço vetorial baseado no dataset"
   ]
  },
  {
   "cell_type": "markdown",
   "metadata": {},
   "source": [
    "## Importando os módulos necessários"
   ]
  },
  {
   "cell_type": "code",
   "execution_count": 21,
   "metadata": {},
   "outputs": [],
   "source": [
    "import pandas as pd\n",
    "from tensorflow import keras\n",
    "import tensorflow_hub as hub\n",
    "import tensorflow as tf"
   ]
  },
  {
   "cell_type": "markdown",
   "metadata": {},
   "source": [
    "## Carregando modelo já criado em \"model-making-script\""
   ]
  },
  {
   "cell_type": "code",
   "execution_count": 22,
   "metadata": {},
   "outputs": [
    {
     "ename": "OSError",
     "evalue": "No file or directory found at ../model-making-scripts/searchModel.h5",
     "output_type": "error",
     "traceback": [
      "\u001b[0;31m---------------------------------------------------------------------------\u001b[0m",
      "\u001b[0;31mOSError\u001b[0m                                   Traceback (most recent call last)",
      "Cell \u001b[0;32mIn[22], line 1\u001b[0m\n\u001b[0;32m----> 1\u001b[0m searchModel \u001b[38;5;241m=\u001b[39m \u001b[43mkeras\u001b[49m\u001b[38;5;241;43m.\u001b[39;49m\u001b[43mmodels\u001b[49m\u001b[38;5;241;43m.\u001b[39;49m\u001b[43mload_model\u001b[49m\u001b[43m(\u001b[49m\n\u001b[1;32m      2\u001b[0m \u001b[43m    \u001b[49m\u001b[38;5;124;43m'\u001b[39;49m\u001b[38;5;124;43m../model-making-scripts/searchModel.h5\u001b[39;49m\u001b[38;5;124;43m'\u001b[39;49m\u001b[43m,\u001b[49m\u001b[43m \u001b[49m\u001b[43mcustom_objects\u001b[49m\u001b[38;5;241;43m=\u001b[39;49m\u001b[43m{\u001b[49m\u001b[38;5;124;43m'\u001b[39;49m\u001b[38;5;124;43mKerasLayer\u001b[39;49m\u001b[38;5;124;43m'\u001b[39;49m\u001b[43m:\u001b[49m\u001b[43m \u001b[49m\u001b[43mhub\u001b[49m\u001b[38;5;241;43m.\u001b[39;49m\u001b[43mKerasLayer\u001b[49m\u001b[43m}\u001b[49m\u001b[43m)\u001b[49m\n",
      "File \u001b[0;32m~/.local/lib/python3.10/site-packages/keras/saving/saving_api.py:212\u001b[0m, in \u001b[0;36mload_model\u001b[0;34m(filepath, custom_objects, compile, safe_mode, **kwargs)\u001b[0m\n\u001b[1;32m    204\u001b[0m     \u001b[39mreturn\u001b[39;00m saving_lib\u001b[39m.\u001b[39mload_model(\n\u001b[1;32m    205\u001b[0m         filepath,\n\u001b[1;32m    206\u001b[0m         custom_objects\u001b[39m=\u001b[39mcustom_objects,\n\u001b[1;32m    207\u001b[0m         \u001b[39mcompile\u001b[39m\u001b[39m=\u001b[39m\u001b[39mcompile\u001b[39m,\n\u001b[1;32m    208\u001b[0m         safe_mode\u001b[39m=\u001b[39msafe_mode,\n\u001b[1;32m    209\u001b[0m     )\n\u001b[1;32m    211\u001b[0m \u001b[39m# Legacy case.\u001b[39;00m\n\u001b[0;32m--> 212\u001b[0m \u001b[39mreturn\u001b[39;00m legacy_sm_saving_lib\u001b[39m.\u001b[39;49mload_model(\n\u001b[1;32m    213\u001b[0m     filepath, custom_objects\u001b[39m=\u001b[39;49mcustom_objects, \u001b[39mcompile\u001b[39;49m\u001b[39m=\u001b[39;49m\u001b[39mcompile\u001b[39;49m, \u001b[39m*\u001b[39;49m\u001b[39m*\u001b[39;49mkwargs\n\u001b[1;32m    214\u001b[0m )\n",
      "File \u001b[0;32m~/.local/lib/python3.10/site-packages/keras/utils/traceback_utils.py:70\u001b[0m, in \u001b[0;36mfilter_traceback.<locals>.error_handler\u001b[0;34m(*args, **kwargs)\u001b[0m\n\u001b[1;32m     67\u001b[0m     filtered_tb \u001b[39m=\u001b[39m _process_traceback_frames(e\u001b[39m.\u001b[39m__traceback__)\n\u001b[1;32m     68\u001b[0m     \u001b[39m# To get the full stack trace, call:\u001b[39;00m\n\u001b[1;32m     69\u001b[0m     \u001b[39m# `tf.debugging.disable_traceback_filtering()`\u001b[39;00m\n\u001b[0;32m---> 70\u001b[0m     \u001b[39mraise\u001b[39;00m e\u001b[39m.\u001b[39mwith_traceback(filtered_tb) \u001b[39mfrom\u001b[39;00m \u001b[39mNone\u001b[39m\n\u001b[1;32m     71\u001b[0m \u001b[39mfinally\u001b[39;00m:\n\u001b[1;32m     72\u001b[0m     \u001b[39mdel\u001b[39;00m filtered_tb\n",
      "File \u001b[0;32m~/.local/lib/python3.10/site-packages/keras/saving/legacy/save.py:230\u001b[0m, in \u001b[0;36mload_model\u001b[0;34m(filepath, custom_objects, compile, options)\u001b[0m\n\u001b[1;32m    228\u001b[0m \u001b[39mif\u001b[39;00m \u001b[39misinstance\u001b[39m(filepath_str, \u001b[39mstr\u001b[39m):\n\u001b[1;32m    229\u001b[0m     \u001b[39mif\u001b[39;00m \u001b[39mnot\u001b[39;00m tf\u001b[39m.\u001b[39mio\u001b[39m.\u001b[39mgfile\u001b[39m.\u001b[39mexists(filepath_str):\n\u001b[0;32m--> 230\u001b[0m         \u001b[39mraise\u001b[39;00m \u001b[39mIOError\u001b[39;00m(\n\u001b[1;32m    231\u001b[0m             \u001b[39mf\u001b[39m\u001b[39m\"\u001b[39m\u001b[39mNo file or directory found at \u001b[39m\u001b[39m{\u001b[39;00mfilepath_str\u001b[39m}\u001b[39;00m\u001b[39m\"\u001b[39m\n\u001b[1;32m    232\u001b[0m         )\n\u001b[1;32m    234\u001b[0m     \u001b[39mif\u001b[39;00m tf\u001b[39m.\u001b[39mio\u001b[39m.\u001b[39mgfile\u001b[39m.\u001b[39misdir(filepath_str):\n\u001b[1;32m    235\u001b[0m         \u001b[39mreturn\u001b[39;00m saved_model_load\u001b[39m.\u001b[39mload(\n\u001b[1;32m    236\u001b[0m             filepath_str, \u001b[39mcompile\u001b[39m, options\n\u001b[1;32m    237\u001b[0m         )\n",
      "\u001b[0;31mOSError\u001b[0m: No file or directory found at ../model-making-scripts/searchModel.h5"
     ]
    }
   ],
   "source": [
    "searchModel = keras.models.load_model(\n",
    "    '../model-making-scripts/searchModel.h5', custom_objects={'KerasLayer': hub.KerasLayer})"
   ]
  },
  {
   "cell_type": "markdown",
   "metadata": {},
   "source": [
    "## Carregando o dataset e corrigindo entradas."
   ]
  },
  {
   "cell_type": "code",
   "execution_count": null,
   "metadata": {},
   "outputs": [
    {
     "data": {
      "text/plain": [
       "'Os cursos de graduação da Universidade Federal de Campina Grande conferirão graus acadêmicos de nível superior, nas modalidades bacharelado, licenciatura ou outras\\nque assegurem o exercício profissional. '"
      ]
     },
     "execution_count": 9,
     "metadata": {},
     "output_type": "execute_result"
    }
   ],
   "source": [
    "df = pd.read_csv(\"./data/transcripts.csv\")\n",
    "\n",
    "del df['Unnamed: 0']\n",
    "\n",
    "df['regulation'][0]"
   ]
  },
  {
   "cell_type": "markdown",
   "metadata": {},
   "source": [
    "## Importando os dados para vetorização e criação do espaço vetorial\n",
    "\n",
    "+ Serão importados na forma de Dataframe, usando Pandas\n",
    "+ Após importação, é feita a concatenação das variáveis \"num\", \"regulation\" e \"paragraph\", pois juntas formarão o texto usado para produzir a representação vetorial do artigo.\n",
    "+ Os campos são então armazenados na forma de listas, uma para cada coluna do Dataframe"
   ]
  },
  {
   "cell_type": "code",
   "execution_count": null,
   "metadata": {},
   "outputs": [
    {
     "data": {
      "text/html": [
       "<div>\n",
       "<style scoped>\n",
       "    .dataframe tbody tr th:only-of-type {\n",
       "        vertical-align: middle;\n",
       "    }\n",
       "\n",
       "    .dataframe tbody tr th {\n",
       "        vertical-align: top;\n",
       "    }\n",
       "\n",
       "    .dataframe thead th {\n",
       "        text-align: right;\n",
       "    }\n",
       "</style>\n",
       "<table border=\"1\" class=\"dataframe\">\n",
       "  <thead>\n",
       "    <tr style=\"text-align: right;\">\n",
       "      <th></th>\n",
       "      <th>regulation</th>\n",
       "      <th>num</th>\n",
       "      <th>paragraph</th>\n",
       "      <th>Chapter</th>\n",
       "      <th>Section</th>\n",
       "      <th>Subsection</th>\n",
       "      <th>Concatenation</th>\n",
       "    </tr>\n",
       "  </thead>\n",
       "  <tbody>\n",
       "    <tr>\n",
       "      <th>0</th>\n",
       "      <td>Os cursos de graduação da Universidade Federal...</td>\n",
       "      <td>Art. 1</td>\n",
       "      <td>-</td>\n",
       "      <td>TÍTULO I\\nDAS DISPOSIÇÕES GERAIS</td>\n",
       "      <td>-</td>\n",
       "      <td>-</td>\n",
       "      <td>Os cursos de graduação da Universidade Federal...</td>\n",
       "    </tr>\n",
       "    <tr>\n",
       "      <th>1</th>\n",
       "      <td>Os cursos de graduação poderão oferecer habili...</td>\n",
       "      <td>Art. 2</td>\n",
       "      <td>-</td>\n",
       "      <td>TÍTULO I\\nDAS DISPOSIÇÕES GERAIS</td>\n",
       "      <td>-</td>\n",
       "      <td>-</td>\n",
       "      <td>Os cursos de graduação poderão oferecer habili...</td>\n",
       "    </tr>\n",
       "    <tr>\n",
       "      <th>2</th>\n",
       "      <td>Os cursos de graduação terão suas atividades a...</td>\n",
       "      <td>Art. 3</td>\n",
       "      <td>§ 1º O ano letivo, independente do ano civil, ...</td>\n",
       "      <td>TÍTULO I\\nDAS DISPOSIÇÕES GERAIS</td>\n",
       "      <td>-</td>\n",
       "      <td>-</td>\n",
       "      <td>Os cursos de graduação terão suas atividades a...</td>\n",
       "    </tr>\n",
       "    <tr>\n",
       "      <th>3</th>\n",
       "      <td>Os cursos de graduação visam à obtenção de qua...</td>\n",
       "      <td>Art. 4</td>\n",
       "      <td>-</td>\n",
       "      <td>TÍTULO II\\nDOS CURSOS DE GRADUAÇÃO</td>\n",
       "      <td>-</td>\n",
       "      <td>-</td>\n",
       "      <td>Os cursos de graduação visam à obtenção de qua...</td>\n",
       "    </tr>\n",
       "    <tr>\n",
       "      <th>4</th>\n",
       "      <td>A estrutura curricular de cada curso de gradua...</td>\n",
       "      <td>Art. 5</td>\n",
       "      <td>Parágrafo único. A estrutura curricular de cad...</td>\n",
       "      <td>TÍTULO II\\nDOS CURSOS DE GRADUAÇÃO</td>\n",
       "      <td>-</td>\n",
       "      <td>-</td>\n",
       "      <td>A estrutura curricular de cada curso de gradua...</td>\n",
       "    </tr>\n",
       "  </tbody>\n",
       "</table>\n",
       "</div>"
      ],
      "text/plain": [
       "                                          regulation     num  \\\n",
       "0  Os cursos de graduação da Universidade Federal...  Art. 1   \n",
       "1  Os cursos de graduação poderão oferecer habili...  Art. 2   \n",
       "2  Os cursos de graduação terão suas atividades a...  Art. 3   \n",
       "3  Os cursos de graduação visam à obtenção de qua...  Art. 4   \n",
       "4  A estrutura curricular de cada curso de gradua...  Art. 5   \n",
       "\n",
       "                                           paragraph  \\\n",
       "0                                                  -   \n",
       "1                                                  -   \n",
       "2  § 1º O ano letivo, independente do ano civil, ...   \n",
       "3                                                  -   \n",
       "4  Parágrafo único. A estrutura curricular de cad...   \n",
       "\n",
       "                              Chapter Section Subsection  \\\n",
       "0    TÍTULO I\\nDAS DISPOSIÇÕES GERAIS       -          -   \n",
       "1    TÍTULO I\\nDAS DISPOSIÇÕES GERAIS       -          -   \n",
       "2    TÍTULO I\\nDAS DISPOSIÇÕES GERAIS       -          -   \n",
       "3  TÍTULO II\\nDOS CURSOS DE GRADUAÇÃO       -          -   \n",
       "4  TÍTULO II\\nDOS CURSOS DE GRADUAÇÃO       -          -   \n",
       "\n",
       "                                       Concatenation  \n",
       "0  Os cursos de graduação da Universidade Federal...  \n",
       "1  Os cursos de graduação poderão oferecer habili...  \n",
       "2  Os cursos de graduação terão suas atividades a...  \n",
       "3  Os cursos de graduação visam à obtenção de qua...  \n",
       "4  A estrutura curricular de cada curso de gradua...  "
      ]
     },
     "execution_count": 17,
     "metadata": {},
     "output_type": "execute_result"
    }
   ],
   "source": [
    "\n",
    "# Verifica se o campo 'paragraph' é nulo ou vazio\n",
    "if df['paragraph'].isna().any() or df['paragraph'].str.strip().empty:\n",
    "    df['Concatenation'] = df['num'].astype(str) + ' ' + df['regulation'].astype(str)\n",
    "else:\n",
    "    df['Concatenation'] = df['num'].astype(str) + ' ' + df['regulation'].astype(str) + ' ' + df['paragraph'].astype(str)\n",
    "\n",
    "# Restante do código\n",
    "list = df.values.tolist()\n",
    "num = []\n",
    "regulation = []\n",
    "paragraph = []\n",
    "sentences = []\n",
    "for i in range(len(list)):\n",
    "    regulation.append(list[i][0])\n",
    "    num.append(list[i][1])\n",
    "    paragraph.append(list[i][2])\n",
    "    sentences.append(list[i][4])\n",
    "\n",
    "df.head()\n"
   ]
  },
  {
   "cell_type": "markdown",
   "metadata": {},
   "source": [
    "## Criando vetores\n",
    "\n",
    "+ Para criar-se os vetores, o modelo é utilizado para codificar todos os itens da lista sentence\n",
    "+ Esta lista, criada anteriormente, possui a concatenação do título, autor e transcrição de cada curso, na mesma ordem em que aparecem no dataset."
   ]
  },
  {
   "cell_type": "code",
   "execution_count": null,
   "metadata": {},
   "outputs": [
    {
     "name": "stdout",
     "output_type": "stream",
     "text": [
      "6/6 [==============================] - 0s 38ms/step\n"
     ]
    }
   ],
   "source": [
    "vectors = searchModel.predict(sentences)"
   ]
  },
  {
   "cell_type": "markdown",
   "metadata": {},
   "source": [
    "## Criando espaço vetorial\n",
    "+ Os vetores criados anteriormente devem ser persistidos em JSON\n",
    "+ O JSON possui diversos campos, cada um contendo um dado relevante acerca de um artigo.\n",
    "+ Para cada vetor armazenado no campo \"data\", existe um metadado salvo em cada um dos outros campos no mesmo índice\n",
    "+ Verificando-se um dado índice em todos os campos, é possível recuperar todas as informações de um dado."
   ]
  },
  {
   "cell_type": "code",
   "execution_count": null,
   "metadata": {},
   "outputs": [],
   "source": [
    "import json\n",
    "\n",
    "lists = vectors.tolist()\n",
    "data = {\"data\": lists,\n",
    "        \"num\": num,\n",
    "        \"regulation\": regulation,\n",
    "        \"paragraph\": paragraph,\n",
    "       }\n",
    "json_str = json.dumps(data)\n",
    "\n",
    "f = open('./data/data.json', 'w')\n",
    "f.write(json_str)\n",
    "f.close()"
   ]
  }
 ],
 "metadata": {
  "kernelspec": {
   "display_name": "Python 3.10.4 64-bit",
   "language": "python",
   "name": "python3"
  },
  "language_info": {
   "codemirror_mode": {
    "name": "ipython",
    "version": 3
   },
   "file_extension": ".py",
   "mimetype": "text/x-python",
   "name": "python",
   "nbconvert_exporter": "python",
   "pygments_lexer": "ipython3",
   "version": "3.10.6"
  },
  "orig_nbformat": 4,
  "vscode": {
   "interpreter": {
    "hash": "916dbcbb3f70747c44a77c7bcd40155683ae19c65e1c03b4aa3499c5328201f1"
   }
  }
 },
 "nbformat": 4,
 "nbformat_minor": 2
}
