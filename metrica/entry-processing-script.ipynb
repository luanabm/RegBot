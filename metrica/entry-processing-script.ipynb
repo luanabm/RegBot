{
 "cells": [
  {
   "cell_type": "markdown",
   "metadata": {},
   "source": [
    "# Processando entradas do dataframe de métricas"
   ]
  },
  {
   "cell_type": "markdown",
   "metadata": {},
   "source": [
    "## Importando os módulos necessários"
   ]
  },
  {
   "cell_type": "code",
   "execution_count": null,
   "metadata": {},
   "outputs": [],
   "source": [
    "%pip install openpyxl\n",
    "\n",
    "from tensorflow import keras\n",
    "import tensorflow_hub as hub\n",
    "import pandas as pd"
   ]
  },
  {
   "cell_type": "markdown",
   "metadata": {},
   "source": [
    "## Carregando modelo já criado em \"model-making-script\""
   ]
  },
  {
   "cell_type": "code",
   "execution_count": null,
   "metadata": {},
   "outputs": [],
   "source": [
    "searchModel = keras.models.load_model(\n",
    "    '../model-making-scripts/searchModel.h5', custom_objects={'KerasLayer': hub.KerasLayer})"
   ]
  },
  {
   "cell_type": "markdown",
   "metadata": {},
   "source": [
    "## Carregando os dados processados em json"
   ]
  },
  {
   "cell_type": "code",
   "execution_count": null,
   "metadata": {},
   "outputs": [],
   "source": [
    "import json\n",
    "\n",
    "data_file_path = './data/data.json'\n",
    "\n",
    "def getCoursesData():\n",
    "\n",
    "    with open(data_file_path) as json_file:\n",
    "        data = json.load(json_file)\n",
    "    \n",
    "    return data\n",
    "\n",
    "coursesData = getCoursesData()"
   ]
  },
  {
   "cell_type": "markdown",
   "metadata": {},
   "source": [
    "## Carregando o dataframe de métrica e acessando as entradas.\n",
    "+ O dataframe de métrica possui uma coluna com uma pesquisa usada para buscar um artigo no espaço vetorial\n",
    "+ Possui também mais duas colunas, um artigo esperado e um indice para comparação\n",
    "+ A coluna artigo retornado e saída, são para a comparação dos dados de entrada e saída, caso o artigo retornado seja igual ao esperado, a saída é 1, caso contrário é 0."
   ]
  },
  {
   "cell_type": "code",
   "execution_count": null,
   "metadata": {},
   "outputs": [],
   "source": [
    "df = pd.read_excel('./data/Dataframe para Métrica.xlsx')\n",
    "\n",
    "entradas = df['entrada (português)']\n",
    "\n",
    "df"
   ]
  },
  {
   "cell_type": "markdown",
   "metadata": {},
   "source": [
    "## Processando as entradas e atribuindo os resultados na coluna \"curso retornado\"\n",
    "+ O resultado das buscas é feito com base na função de similaridade do cosseno"
   ]
  },
  {
   "cell_type": "code",
   "execution_count": null,
   "metadata": {},
   "outputs": [],
   "source": [
    "import numpy as np\n",
    "from scipy.stats import pearsonr\n",
    "\n",
    "retornos = []\n",
    "\n",
    "for entrada in entradas:\n",
    "    \n",
    "    entrada_str = str(entrada)\n",
    "\n",
    "    retorno = searchModel.predict([entrada_str])  # Faça a previsão com base nas entradas\n",
    "    retorno = np.array(retorno)  # Converte para um array numpy\n",
    "    similarity_scores = []\n",
    "    for course_data in coursesData[\"data\"]:\n",
    "        course_data = np.array(course_data)  # Converte para um array numpy\n",
    "        similarity_scores.append(pearsonr(retorno.flatten(), course_data.flatten())[0])\n",
    "    indexes = np.argsort(similarity_scores)[::-1]  # Ordenar em ordem decrescente\n",
    "    retornos.append(coursesData['num'][indexes[0]])\n",
    "\n",
    "    \n",
    "df['artigo retornado'] = retornos\n",
    "\n",
    "df\n"
   ]
  },
  {
   "cell_type": "code",
   "execution_count": null,
   "metadata": {},
   "outputs": [],
   "source": [
    "# !pip install unidecode\n",
    "# from unidecode import unidecode\n",
    "\n",
    "# ignore_list = ['the', 'o', 'a']\n",
    "\n",
    "# def parse_name(full_name):\n",
    "#     name_list = full_name.split() # Separa cada nome\n",
    "#     new_name_list = []\n",
    "#     for name in name_list: # Percorre cada nome\n",
    "#         name = name.strip('.') # Remove pontos\n",
    "#         name = name.lower() # Converte todas as letras em minúsculas\n",
    "#         if name in ignore_list: # Remove preposições\n",
    "#             continue\n",
    "        # name = unidecode(name.decode('utf8')) # Remove acentos (necessita da biblioteca 'unidecode')\n",
    "#         new_name_list.append(name)\n",
    "#     return new_name_list\n",
    "\n",
    "# def is_similar(a, b):\n",
    "#     a = parse_name(a)\n",
    "#     b = parse_name(b)\n",
    "#     if len(a) != len(b): # Se o número de palavras for diferente, retorna falso\n",
    "#         return False\n",
    "#     for x, y in zip(a, b):\n",
    "#         if (len(x) == 1) or (len(y) == 1): # Se uma das palavras possuir apenas uma letra...\n",
    "#             if x[0] != y[0]: #...compara apenas a primeira letra\n",
    "#                 return False\n",
    "#         else: # Caso contrário...\n",
    "#             if x != y: #...compara a palavra toda\n",
    "#                 return False\n",
    "#     return True # Se todas as palavras forem iguais, retorna verdadeiro"
   ]
  },
  {
   "cell_type": "markdown",
   "metadata": {},
   "source": [
    "## Comparando o retorno e gerando uma pontuação na saída"
   ]
  },
  {
   "cell_type": "code",
   "execution_count": null,
   "metadata": {},
   "outputs": [],
   "source": [
    "df['saida'] = 0\n",
    "\n",
    "for i in range(len(df['artigo esperado'])):\n",
    "    if df['artigo esperado'][i] == df['artigo retornado'][i]:\n",
    "        df['saida'][i] = 1\n",
    "\n",
    "df"
   ]
  },
  {
   "cell_type": "code",
   "execution_count": null,
   "metadata": {},
   "outputs": [],
   "source": [
    "df.head(60)"
   ]
  },
  {
   "cell_type": "markdown",
   "metadata": {},
   "source": [
    "## Pontuação total da métrica"
   ]
  },
  {
   "cell_type": "code",
   "execution_count": null,
   "metadata": {},
   "outputs": [],
   "source": [
    "score = sum(df['saida'])\n",
    "\n",
    "score"
   ]
  }
 ],
 "metadata": {
  "kernelspec": {
   "display_name": "Python 3.10.4 64-bit",
   "language": "python",
   "name": "python3"
  },
  "language_info": {
   "codemirror_mode": {
    "name": "ipython",
    "version": 3
   },
   "file_extension": ".py",
   "mimetype": "text/x-python",
   "name": "python",
   "nbconvert_exporter": "python",
   "pygments_lexer": "ipython3",
   "version": "3.10.6"
  },
  "orig_nbformat": 4,
  "vscode": {
   "interpreter": {
    "hash": "916dbcbb3f70747c44a77c7bcd40155683ae19c65e1c03b4aa3499c5328201f1"
   }
  }
 },
 "nbformat": 4,
 "nbformat_minor": 2
}
