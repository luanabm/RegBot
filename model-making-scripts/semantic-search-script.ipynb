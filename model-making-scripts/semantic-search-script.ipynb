{
 "cells": [
  {
   "cell_type": "markdown",
   "id": "00389173",
   "metadata": {},
   "source": [
    "# Criação do modelo de vetorização de cursos"
   ]
  },
  {
   "cell_type": "markdown",
   "id": "0781f538",
   "metadata": {},
   "source": [
    "## Importando os módulos necessários"
   ]
  },
  {
   "cell_type": "code",
   "execution_count": 12,
   "id": "51c6385a",
   "metadata": {
    "collapsed": true
   },
   "outputs": [],
   "source": [
    "import numpy as np\n",
    "import tensorflow as tf\n",
    "import tensorflow_hub as hub\n",
    "import tensorflow_text as text\n",
    "import pandas as pd"
   ]
  },
  {
   "cell_type": "markdown",
   "id": "d08d8aad",
   "metadata": {},
   "source": [
    "## Usando uma build pré-treinada e iniciando modelo"
   ]
  },
  {
   "cell_type": "code",
   "execution_count": 13,
   "id": "ab6e8037",
   "metadata": {
    "collapsed": true
   },
   "outputs": [],
   "source": [
    "encoder_url = \"https://tfhub.dev/google/universal-sentence-encoder-large/5\"\n",
    "encoder = hub.KerasLayer(encoder_url, input_shape=[], dtype=tf.string, trainable=True)"
   ]
  },
  {
   "cell_type": "markdown",
   "id": "dbd8936e",
   "metadata": {},
   "source": [
    "## Importando os dados para vetorização e criação do espaço vetorial\n",
    "\n",
    "+ Os dados devem estar armazenados no mesmo diretório que o código\n",
    "+ Serão importados na forma de Dataframe, usando Pandas\n",
    "+ Após importação, é feita a concatenação das variáveis \"Course Name\", \"Course Description\" e \"all_skill\", pois juntas formarão o texto usado para produzir a representação vetorial do curso.\n",
    "+ Os campos são então armazenados na forma de listas, uma para cada coluna do Dataframe"
   ]
  },
  {
   "cell_type": "code",
   "execution_count": 18,
   "id": "6f56f23d",
   "metadata": {},
   "outputs": [
    {
     "data": {
      "text/html": [
       "<div>\n",
       "<style scoped>\n",
       "    .dataframe tbody tr th:only-of-type {\n",
       "        vertical-align: middle;\n",
       "    }\n",
       "\n",
       "    .dataframe tbody tr th {\n",
       "        vertical-align: top;\n",
       "    }\n",
       "\n",
       "    .dataframe thead th {\n",
       "        text-align: right;\n",
       "    }\n",
       "</style>\n",
       "<table border=\"1\" class=\"dataframe\">\n",
       "  <thead>\n",
       "    <tr style=\"text-align: right;\">\n",
       "      <th></th>\n",
       "      <th>dataset</th>\n",
       "      <th>regulation</th>\n",
       "      <th>num</th>\n",
       "      <th>paragraph</th>\n",
       "      <th>Concatenation</th>\n",
       "    </tr>\n",
       "  </thead>\n",
       "  <tbody>\n",
       "    <tr>\n",
       "      <th>0</th>\n",
       "      <td>Quais as modalidades de cursos de graduacao de...</td>\n",
       "      <td>Os cursos de graduação da Universidade Federal...</td>\n",
       "      <td>Art. 1</td>\n",
       "      <td>NaN</td>\n",
       "      <td>Os cursos de graduação da Universidade Federal...</td>\n",
       "    </tr>\n",
       "  </tbody>\n",
       "</table>\n",
       "</div>"
      ],
      "text/plain": [
       "                                             dataset  \\\n",
       "0  Quais as modalidades de cursos de graduacao de...   \n",
       "\n",
       "                                          regulation     num paragraph  \\\n",
       "0  Os cursos de graduação da Universidade Federal...  Art. 1       NaN   \n",
       "\n",
       "                                       Concatenation  \n",
       "0  Os cursos de graduação da Universidade Federal...  "
      ]
     },
     "execution_count": 18,
     "metadata": {},
     "output_type": "execute_result"
    }
   ],
   "source": [
    "df = pd.read_csv(\"dataset.csv\")\n",
    "\n",
    "df['Concatenation'] = df['regulation'].astype(str)\n",
    "\n",
    "\n",
    "list = df.values.tolist()\n",
    "\n",
    "names = []\n",
    "num = []\n",
    "paragraph = []\n",
    "sentences = []\n",
    "for i in range(len(list)):\n",
    "    sentences.append(list[i][3])\n",
    "    names.append(list[i][0])\n",
    "    num.append(list[i][1])\n",
    "    paragraph.append(list[i][2])\n",
    "\n",
    "df.head(1)"
   ]
  },
  {
   "cell_type": "markdown",
   "id": "1c1418e8",
   "metadata": {},
   "source": [
    "## Criando o modelo\n",
    "\n",
    "+ A camada de input receberá um texto\n",
    "+ Este texto é processado pelas camadas do Universal Language encoder, modelo extraído do Tensorflow Hub\n",
    "+ O modelo é então criado com a arquitetura definida\n",
    "+ O modelo criado é compilado e salvo."
   ]
  },
  {
   "cell_type": "code",
   "execution_count": 19,
   "id": "4d6ef5d3",
   "metadata": {},
   "outputs": [
    {
     "name": "stderr",
     "output_type": "stream",
     "text": [
      "2023-06-12 16:48:13.688333: I tensorflow/core/common_runtime/executor.cc:1197] [/device:CPU:0] (DEBUG INFO) Executor start aborting (this does not indicate an error and you can ignore this message): INVALID_ARGUMENT: You must feed a value for placeholder tensor 'Placeholder' with dtype string and shape [?]\n",
      "\t [[{{node Placeholder}}]]\n"
     ]
    }
   ],
   "source": [
    "input1 = tf.keras.Input(shape=[], dtype=tf.string)\n",
    "embedding_layer = encoder(input1)\n",
    "\n",
    "finishedModel = tf.keras.Model(inputs=input1, outputs=embedding_layer)\n",
    "finishedModel.compile(optimizer=\"adam\", loss=\"binary_crossentropy\", metrics=[\"AUC\"])\n",
    "finishedModel.save(\"searchModel.h5\", include_optimizer=False)"
   ]
  },
  {
   "cell_type": "markdown",
   "id": "9fd8a33f",
   "metadata": {},
   "source": [
    "## Criando vetores\n",
    "\n",
    "+ Para criar-se os vetores, o modelo é utilizado para codificar todos os itens da lista sentence\n",
    "+ Esta lista, criada anteriormente, possui a concatenação do título, descrição e habilidades de cada curso, na mesma ordem em que aparecem no dataset."
   ]
  },
  {
   "cell_type": "code",
   "execution_count": 20,
   "id": "f6113629",
   "metadata": {},
   "outputs": [
    {
     "name": "stdout",
     "output_type": "stream",
     "text": [
      "7/7 [==============================] - 4s 203ms/step\n"
     ]
    }
   ],
   "source": [
    "vectors = finishedModel.predict(num)\n",
    "print(num)\n"
   ]
  },
  {
   "cell_type": "markdown",
   "id": "6337bf44",
   "metadata": {},
   "source": [
    "## Criando espaço vetorial\n",
    "+ Os vetores criados anteriormente devem ser persistidos em JSON\n",
    "+ O JSON possui diversos campos, cada um contendo um dado relevante acerca de um curso.\n",
    "+ Para cada vetor armazenado no campo \"data\", existe um metadado salvo em cada um dos outros campos no mesmo índice\n",
    "+ Verificando-se um dado índice em todos os campos, é possível recuperar todas as informações de um curso."
   ]
  },
  {
   "cell_type": "code",
   "execution_count": 21,
   "id": "751689bf",
   "metadata": {},
   "outputs": [],
   "source": [
    "import json\n",
    "lists = vectors.tolist()\n",
    "data = {\"data\": lists,\n",
    "        \"names\": names,\n",
    "        \"num\": num,\n",
    "        \"paragraph\": paragraph\n",
    "       }\n",
    "json_str = json.dumps(data)\n",
    "\n",
    "f = open('data.json', 'w')\n",
    "f.write(json_str)\n",
    "f.close()\n"
   ]
  }
 ],
 "metadata": {
  "kernelspec": {
   "display_name": "Python 3.10.4 64-bit",
   "language": "python",
   "name": "python3"
  },
  "language_info": {
   "codemirror_mode": {
    "name": "ipython",
    "version": 3
   },
   "file_extension": ".py",
   "mimetype": "text/x-python",
   "name": "python",
   "nbconvert_exporter": "python",
   "pygments_lexer": "ipython3",
   "version": "3.10.6"
  },
  "vscode": {
   "interpreter": {
    "hash": "916dbcbb3f70747c44a77c7bcd40155683ae19c65e1c03b4aa3499c5328201f1"
   }
  }
 },
 "nbformat": 4,
 "nbformat_minor": 5
}
